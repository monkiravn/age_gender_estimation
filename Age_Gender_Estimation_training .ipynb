{
  "nbformat": 4,
  "nbformat_minor": 0,
  "metadata": {
    "accelerator": "GPU",
    "colab": {
      "name": "Age_Gender_Estimation_training.ipynb",
      "provenance": [],
      "collapsed_sections": [],
      "toc_visible": true
    },
    "kernelspec": {
      "display_name": "Python 3",
      "name": "python3"
    },
    "language_info": {
      "name": "python"
    }
  },
  "cells": [
    {
      "cell_type": "markdown",
      "metadata": {
        "id": "FWA1aBA4dUzw"
      },
      "source": [
        "## Clone github and download dataset"
      ]
    },
    {
      "cell_type": "code",
      "metadata": {
        "colab": {
          "base_uri": "https://localhost:8080/"
        },
        "id": "vJPbo8v4AeQW",
        "outputId": "cec6e1ea-5c25-4599-8931-7d1562061a37"
      },
      "source": [
        "!git clone https://github.com/monkiravn/age_gender_estimation.git\n",
        "%cd \"age_gender_estimation\""
      ],
      "execution_count": null,
      "outputs": [
        {
          "output_type": "stream",
          "text": [
            "Cloning into 'age_gender_estimation'...\n",
            "remote: Enumerating objects: 341, done.\u001b[K\n",
            "remote: Counting objects: 100% (341/341), done.\u001b[K\n",
            "remote: Compressing objects: 100% (233/233), done.\u001b[K\n",
            "remote: Total 341 (delta 226), reused 219 (delta 104), pack-reused 0\u001b[K\n",
            "Receiving objects: 100% (341/341), 43.39 KiB | 925.00 KiB/s, done.\n",
            "Resolving deltas: 100% (226/226), done.\n",
            "/content/age_gender_estimation\n"
          ],
          "name": "stdout"
        }
      ]
    },
    {
      "cell_type": "code",
      "metadata": {
        "id": "DJsIhJ9hEwcp"
      },
      "source": [
        "!chmod +x download-imdb-crop.sh"
      ],
      "execution_count": null,
      "outputs": []
    },
    {
      "cell_type": "code",
      "metadata": {
        "id": "jrysxcfEE1vh"
      },
      "source": [
        "!./download-imdb-crop.sh"
      ],
      "execution_count": null,
      "outputs": []
    },
    {
      "cell_type": "code",
      "metadata": {
        "colab": {
          "base_uri": "https://localhost:8080/"
        },
        "id": "d8Br6qnGHskD",
        "outputId": "9653564d-14ce-4d2d-b665-befb466e990f"
      },
      "source": [
        "!git pull"
      ],
      "execution_count": null,
      "outputs": [
        {
          "output_type": "stream",
          "text": [
            "remote: Enumerating objects: 6, done.\u001b[K\n",
            "remote: Counting objects:  16% (1/6)\u001b[K\rremote: Counting objects:  33% (2/6)\u001b[K\rremote: Counting objects:  50% (3/6)\u001b[K\rremote: Counting objects:  66% (4/6)\u001b[K\rremote: Counting objects:  83% (5/6)\u001b[K\rremote: Counting objects: 100% (6/6)\u001b[K\rremote: Counting objects: 100% (6/6), done.\u001b[K\n",
            "remote: Compressing objects:  50% (1/2)\u001b[K\rremote: Compressing objects: 100% (2/2)\u001b[K\rremote: Compressing objects: 100% (2/2), done.\u001b[K\n",
            "remote: Total 4 (delta 2), reused 4 (delta 2), pack-reused 0\u001b[K\n",
            "Unpacking objects:  25% (1/4)   \rUnpacking objects:  50% (2/4)   \rUnpacking objects:  75% (3/4)   \rUnpacking objects: 100% (4/4)   \rUnpacking objects: 100% (4/4), done.\n",
            "From https://github.com/monkiravn/age_gender_estimation\n",
            "   4943ec3..60902b2  main       -> origin/main\n",
            "Updating 4943ec3..60902b2\n",
            "Fast-forward\n",
            " utils/evaluate.py => evaluate.py | 8 \u001b[32m++++\u001b[m\u001b[31m----\u001b[m\n",
            " 1 file changed, 4 insertions(+), 4 deletions(-)\n",
            " rename utils/evaluate.py => evaluate.py (97%)\n"
          ],
          "name": "stdout"
        }
      ]
    },
    {
      "cell_type": "markdown",
      "metadata": {
        "id": "uw6xX0eMhlVZ"
      },
      "source": [
        "#Pre-Process Dataset"
      ]
    },
    {
      "cell_type": "code",
      "metadata": {
        "id": "-Yh4F_hth8-c"
      },
      "source": [
        "!mkdir data_processed"
      ],
      "execution_count": null,
      "outputs": []
    },
    {
      "cell_type": "code",
      "metadata": {
        "colab": {
          "base_uri": "https://localhost:8080/"
        },
        "id": "VHykdT2-FB6x",
        "outputId": "ded4844a-9c0a-41fe-d702-1d116d32129f"
      },
      "source": [
        "!python pre_process_data.py --db-path \"data/imdb_crop/imdb.mat\" --photo-dir \"data/imdb_crop/\" --output-dir \"data_processed\" --min-score 1.0 --img-size 224"
      ],
      "execution_count": null,
      "outputs": [
        {
          "output_type": "stream",
          "text": [
            "100% 368578/368578 [08:10<00:00, 751.41it/s]\n",
            "100% 92145/92145 [02:04<00:00, 743.09it/s]\n"
          ],
          "name": "stdout"
        }
      ]
    },
    {
      "cell_type": "markdown",
      "metadata": {
        "id": "ouu1Ezs9Dc9o"
      },
      "source": [
        "# Training"
      ]
    },
    {
      "cell_type": "code",
      "metadata": {
        "id": "BPDajw-bktxS"
      },
      "source": [
        "#!python ultils/model.py"
      ],
      "execution_count": null,
      "outputs": []
    },
    {
      "cell_type": "code",
      "metadata": {
        "id": "Epif8Yxi8MDq"
      },
      "source": [
        "!python training.py --dftrain-path \"data_processed/train.csv\" --dftest-path \"data_processed/val.csv\" --dtroot-path \"data_processed/crop\" --mdsave-path \"/content/drive/MyDrive/age_gender_estimation/models\" --train-mode \"custom_both\" --continues False"
      ],
      "execution_count": null,
      "outputs": []
    },
    {
      "cell_type": "markdown",
      "metadata": {
        "id": "Ca5bxB1TfXj5"
      },
      "source": [
        "# Evaluate\n"
      ]
    },
    {
      "cell_type": "code",
      "metadata": {
        "colab": {
          "base_uri": "https://localhost:8080/"
        },
        "id": "QfOdIsmlfaAt",
        "outputId": "00dad6a8-756d-4f8a-e1ad-e7616615d0f9"
      },
      "source": [
        "!python evaluate.py --dftest-path \"data_processed/val.csv\" --dtroot-path \"data_processed/crop\" --mdsave-path \"/content/drive/MyDrive/age_gender_estimation/models\""
      ],
      "execution_count": null,
      "outputs": [
        {
          "output_type": "stream",
          "text": [
            "Evaluating........\n",
            "*****\n",
            "Test loss: 0.576955\n",
            "Test Age MAE: 0.0751\n",
            "Test Gender Accuracy: 0.8679\n",
            "*****\n",
            "Plotting........\n",
            "Predict some pictures...\n"
          ],
          "name": "stdout"
        }
      ]
    }
  ]
}